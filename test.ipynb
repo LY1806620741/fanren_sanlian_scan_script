{
 "cells": [
  {
   "cell_type": "markdown",
   "metadata": {},
   "source": [
    "# 登陆"
   ]
  },
  {
   "cell_type": "code",
   "execution_count": 11,
   "metadata": {},
   "outputs": [
    {
     "name": "stdout",
     "output_type": "stream",
     "text": [
      "登录失败！\n"
     ]
    }
   ],
   "source": [
    "import requests\n",
    "url = 'https://passport.bilibili.com/web/login/v2'\n",
    "\n",
    "# 构造登录的 POST 数据，其中 username 和 password 是账号密码\n",
    "login_data = {\n",
    "    'username': '',\n",
    "    'password': ''\n",
    "}\n",
    "response = requests.post(url, data=login_data)\n",
    "if response.status_code == 200 and response.json()['code'] == 0:\n",
    "    print('登录成功！')\n",
    "else:\n",
    "    print('登录失败！')"
   ]
  },
  {
   "cell_type": "markdown",
   "metadata": {},
   "source": [
    "# 查询剧集列表"
   ]
  },
  {
   "cell_type": "code",
   "execution_count": 12,
   "metadata": {},
   "outputs": [
    {
     "data": {
      "text/plain": [
       "<Response [412]>"
      ]
     },
     "execution_count": 12,
     "metadata": {},
     "output_type": "execute_result"
    }
   ],
   "source": [
    "requests.get(\"https://api.bilibili.com/pgc/view/web/ep/list?ep_id=733316\")"
   ]
  },
  {
   "cell_type": "markdown",
   "metadata": {},
   "source": [
    "# 查询是否一键三连"
   ]
  },
  {
   "cell_type": "code",
   "execution_count": 13,
   "metadata": {},
   "outputs": [
    {
     "data": {
      "text/plain": [
       "<Response [412]>"
      ]
     },
     "execution_count": 13,
     "metadata": {},
     "output_type": "execute_result"
    }
   ],
   "source": [
    "requests.get(\"https://api.bilibili.com/pgc/season/episode/web/info?ep_id=733316\")"
   ]
  },
  {
   "cell_type": "markdown",
   "metadata": {},
   "source": [
    "# 三连请求"
   ]
  },
  {
   "cell_type": "code",
   "execution_count": 14,
   "metadata": {},
   "outputs": [],
   "source": [
    "import requests\n",
    "\n",
    "# https://api.bilibili.com/x/web-interface/archive/like 单点赞 data aid=478818261&like=1&csrf=4c6bb7c2622aec8fda55cadbeab48f2d\n",
    "res=requests.post(\n",
    "    \"https://api.bilibili.com/pgc/season/episode/like/triple\",\n",
    "    data={\"ep_id\": 733316, \"is_follow\": 0},\n",
    ")"
   ]
  }
 ],
 "metadata": {
  "kernelspec": {
   "display_name": "Python 3",
   "language": "python",
   "name": "python3"
  },
  "language_info": {
   "codemirror_mode": {
    "name": "ipython",
    "version": 3
   },
   "file_extension": ".py",
   "mimetype": "text/x-python",
   "name": "python",
   "nbconvert_exporter": "python",
   "pygments_lexer": "ipython3",
   "version": "3.13.0"
  }
 },
 "nbformat": 4,
 "nbformat_minor": 2
}
